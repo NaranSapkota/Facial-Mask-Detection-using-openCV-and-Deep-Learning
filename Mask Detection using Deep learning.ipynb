{
  "nbformat": 4,
  "nbformat_minor": 0,
  "metadata": {
    "colab": {
      "name": "Untitled0.ipynb",
      "provenance": [],
      "private_outputs": true
    },
    "kernelspec": {
      "name": "python3",
      "display_name": "Python 3"
    },
    "accelerator": "GPU"
  },
  "cells": [
    {
      "cell_type": "code",
      "metadata": {
        "id": "-izs6NbhJqZG",
        "colab_type": "code",
        "colab": {}
      },
      "source": [
        "#Import library\n",
        "import numpy as np\n",
        "from keras.layers import Conv2D,Input,ZeroPadding2D\n",
        "from keras.layers import BatchNormalization ,Activation, MaxPooling2D\n",
        "from keras.layers import Flatten,Dense,Dropout\n",
        "from keras.preprocessing.image import ImageDataGenerator\n",
        "from keras.models import Sequential\n",
        "from keras.models import Model,load_model\n",
        "from sklearn.model_selection import train_test_split\n",
        "from sklearn.metrics import f1_score\n",
        "from sklearn.utils  import shuffle\n",
        "from keras.optimizers  import RMSprop\n",
        "from keras.callbacks import TensorBoard, ModelCheckpoint\n"
      ],
      "execution_count": null,
      "outputs": []
    },
    {
      "cell_type": "code",
      "metadata": {
        "id": "ZFnbYllsKAuG",
        "colab_type": "code",
        "colab": {}
      },
      "source": [
        "#Set the directory for dataset\n",
        "train_path = \"/content/drive/My Drive/Colab Notebooks/data/Mask dataset/train\"\n",
        "test_path = \"/content/drive/My Drive/Colab Notebooks/data/Mask dataset/test\""
      ],
      "execution_count": null,
      "outputs": []
    },
    {
      "cell_type": "markdown",
      "metadata": {
        "id": "YEFspZnZKM8o",
        "colab_type": "text"
      },
      "source": [
        "Lets make CNN\n",
        "\n",
        "If inputs are of more than two classes..then we use softmax activation function but here are two inputs so we use sigmoid function.\n",
        "\n",
        "We have binary class input so we use binary entrophy function in loss ... otherwise more than two we use Categorical cross entropy\n",
        "\n"
      ]
    },
    {
      "cell_type": "code",
      "metadata": {
        "id": "F_S3PVIAKHpe",
        "colab_type": "code",
        "colab": {}
      },
      "source": [
        "#Intialize the CNN\n",
        "classifier=Sequential()\n",
        "\n",
        "#Step 1-  Convolution\n",
        "classifier.add(Conv2D(32,(3,3),input_shape=(128,128,3),activation=\"relu\"))\n",
        "\n",
        "#step 2 - Pooling\n",
        "classifier.add(MaxPooling2D(pool_size=(2,2)))\n",
        "\n",
        "#step 3 - Flatten\n",
        "classifier.add(Flatten())\n",
        "\n",
        "#step 4- Fully Connected Layer\n",
        "classifier.add(Dense(units=128 ,activation=\"relu\"))\n",
        "\n",
        "#Output layer\n",
        "classifier.add(Dense(units=1 ,activation=\"sigmoid\"))\n",
        "\n",
        "#Lets calculate loss function\n",
        "classifier.compile(optimizer=\"adam\",loss=\"binary_crossentropy\",metrics=[\"acc\"])\n",
        "\n",
        " "
      ],
      "execution_count": null,
      "outputs": []
    },
    {
      "cell_type": "markdown",
      "metadata": {
        "id": "t4tefvuGKWXU",
        "colab_type": "text"
      },
      "source": [
        "Preprocess images"
      ]
    },
    {
      "cell_type": "code",
      "metadata": {
        "id": "DNSCICwLKUnt",
        "colab_type": "code",
        "colab": {}
      },
      "source": [
        "#Train \n",
        "train_datagen = ImageDataGenerator(rescale=1.0/255,\n",
        "                                   rotation_range=40,\n",
        "                                   width_shift_range=0.2,\n",
        "                                   height_shift_range=0.2,\n",
        "                                   shear_range=0.2,\n",
        "                                   zoom_range=0.2,\n",
        "                                   horizontal_flip=True,\n",
        "                                   fill_mode='nearest')\n",
        "\n",
        "train_generator = train_datagen.flow_from_directory(\n",
        "                                                    train_path, \n",
        "                                                    batch_size=90, \n",
        "                                                    class_mode='binary',\n",
        "                                                    target_size=(128, 128))\n",
        "                                                    \n",
        "#Validation\n",
        "validation_datagen = ImageDataGenerator(rescale=1.0/255)\n",
        "                                                    \n",
        "validation_generator = validation_datagen.flow_from_directory(\n",
        "                                                         test_path, \n",
        "                                                         batch_size=90, \n",
        "                                                         class_mode='binary',\n",
        "                                                         target_size=(128, 128))\n",
        "\n"
      ],
      "execution_count": null,
      "outputs": []
    },
    {
      "cell_type": "code",
      "metadata": {
        "id": "2w2p7HHgKfUP",
        "colab_type": "code",
        "colab": {}
      },
      "source": [
        "#Prevent overfitting\n",
        "checkpoint = ModelCheckpoint('model2-{epoch:03d}.model',\n",
        "                             monitor='val_loss',\n",
        "                             verbose=0,\n",
        "                             save_best_only=True,\n",
        "                             mode='auto')"
      ],
      "execution_count": null,
      "outputs": []
    },
    {
      "cell_type": "code",
      "metadata": {
        "id": "lcrwKDqGKgH8",
        "colab_type": "code",
        "colab": {}
      },
      "source": [
        "#Lets fit model \n",
        "model=classifier.fit_generator(\n",
        "    train_generator,\n",
        "    epochs=10,\n",
        "    validation_data=validation_generator\n",
        "  \n",
        "\n",
        ")\n",
        "\n",
        "\n"
      ],
      "execution_count": null,
      "outputs": []
    },
    {
      "cell_type": "code",
      "metadata": {
        "id": "CHerJsYBM3Hf",
        "colab_type": "code",
        "colab": {}
      },
      "source": [
        "import os\n",
        "import datetime\n",
        "# Create a function to save a model\n",
        "def save_model(model, suffix=None):\n",
        "  \"\"\"\n",
        "  Saves a given model in a models directory and appends a suffix (str)\n",
        "  for clarity and reuse.\n",
        "  \"\"\"\n",
        "  # Create model directory with current time\n",
        "  modeldir = os.path.join(\"/content/drive/My Drive/Colab Notebooks/\",\n",
        "                          datetime.datetime.now().strftime(\"%Y%m%d-%H%M%s\"))\n",
        "  model_path = modeldir + \"-\" + suffix + \".h5\" # save format of model\n",
        "  print(f\"Saving model to: {model_path}...\")\n",
        "  model.save(model_path)\n",
        "  return model_path"
      ],
      "execution_count": null,
      "outputs": []
    },
    {
      "cell_type": "code",
      "metadata": {
        "id": "7nPxSgiiRNO5",
        "colab_type": "code",
        "colab": {}
      },
      "source": [
        "save_model(classifier,\"model\")"
      ],
      "execution_count": null,
      "outputs": []
    }
  ]
}