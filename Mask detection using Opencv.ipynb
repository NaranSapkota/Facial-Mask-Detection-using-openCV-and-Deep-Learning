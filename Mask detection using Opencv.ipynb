{
 "cells": [
  {
   "cell_type": "code",
   "execution_count": 1,
   "metadata": {},
   "outputs": [],
   "source": [
    "import numpy as np\n",
    "import cv2\n",
    "import random"
   ]
  },
  {
   "cell_type": "code",
   "execution_count": 2,
   "metadata": {},
   "outputs": [],
   "source": [
    "#Import cascade\n",
    "face_cascade = cv2.CascadeClassifier('C:/Users/lenovo/Jupyter Projects/Mask and not mask/haarcascade_frontalface_default.xml')\n",
    "eye_cascade = cv2.CascadeClassifier('C:/Users/lenovo/Jupyter Projects/Mask and not mask/haarcascade_eye.xml')\n",
    "mouth_cascade = cv2.CascadeClassifier('C:/Users/lenovo/Jupyter Projects/Mask and not mask/Mouth.xml')\n",
    "upper_body = cv2.CascadeClassifier('C:/Users/lenovo/Jupyter Projects/Mask and not mask/haarcascade_upperbody.xml')"
   ]
  },
  {
   "cell_type": "code",
   "execution_count": 3,
   "metadata": {},
   "outputs": [],
   "source": [
    "# Adjust threshold value in range 80 to 105 based on your light.\n",
    "brightness_threshold = 100"
   ]
  },
  {
   "cell_type": "code",
   "execution_count": 4,
   "metadata": {},
   "outputs": [],
   "source": [
    "# User message\n",
    "font = cv2.FONT_HERSHEY_SCRIPT_COMPLEX\n",
    "org = (30, 30)\n",
    "FONT_MASK = (0, 255, 0)\n",
    "FONT_NOT_MASK = (0, 0, 255)\n",
    "FONT_SCALE = 1\n",
    "MESSAGE_WEAR = \"Mask Detected !!\"\n",
    "MESSAGE_NOT_WEAR = \"Mask not Detected !!\"\n",
    "\n",
    "# get video input\n",
    "video = cv2.VideoCapture(0)\n",
    "while 1:\n",
    " \n",
    "    ret, img = video.read()\n",
    "    \n",
    "    #Lets flip array of image ..  0 reprsnet x-axis and 1 represent y-axis\n",
    "    img = cv2.flip(img,1)\n",
    "\n",
    "    # changing Image into gray scale \n",
    "    gray = cv2.cvtColor(img, cv2.COLOR_BGR2GRAY)\n",
    "\n",
    "    # Convert image in black and white\n",
    "    (thresh, black_and_white) = cv2.threshold(gray, brightness_threshold, 255, cv2.THRESH_BINARY)\n",
    "  \n",
    "\n",
    "  # detect face\n",
    "    FACES = face_cascade.detectMultiScale(gray, 1.1, 4)\n",
    "\n",
    "    # Face prediction for black and white\n",
    "    faces_bw = face_cascade.detectMultiScale(black_and_white, 1.1, 4)\n",
    "\n",
    "\n",
    "    if(len(FACES) == 0 and len(faces_bw) == 1):\n",
    "       # mask not found !!\n",
    "        cv2.putText(img, MESSAGE_WEAR, org, font, FONT_SCALE, FONT_MASK, 2, cv2.LINE_AA)\n",
    "    else:\n",
    "        # Draw rectangle on face\n",
    "        for (x, y, w, h) in FACES:\n",
    "            cv2.rectangle(img, (x, y), (x + w, y + h), (255, 255, 255), 2)\n",
    "            roi_gray = gray[y:y + h, x:x + w]\n",
    "            roi_color = img[y:y + h, x:x + w]\n",
    "\n",
    "\n",
    "            # Detect lips counters\n",
    "            RECTANGLE_MOUTH = mouth_cascade.detectMultiScale(gray, 1.5, 5)\n",
    "\n",
    "        # Face detected but Lips not detected which means person is wearing mask\n",
    "        if(len(RECTANGLE_MOUTH) == 0):\n",
    "            cv2.putText(img, MESSAGE_WEAR, org, font, FONT_SCALE, FONT_MASK, 2, cv2.LINE_AA)\n",
    "        else:\n",
    "            for (m_x, m_y, m_w, m_h) in RECTANGLE_MOUTH:\n",
    "\n",
    "                if(y < m_y < y + h):\n",
    "                    # Face and Lips are detected but lips coordinates are within face cordinates which `means lips prediction is true and\n",
    "                    # person is not waring mask\n",
    "                    cv2.putText(img, MESSAGE_NOT_WEAR, org, font, FONT_SCALE, FONT_NOT_MASK, 2, cv2.LINE_AA)\n",
    "                    break\n",
    "\n",
    "    # Show frame with results\n",
    "    cv2.imshow('Mask Detection', img)\n",
    "    k = cv2.waitKey(30) & 0xff\n",
    "    if k == 27:\n",
    "        break\n",
    "\n",
    "# Release video\n",
    "video.release()\n",
    "cv2.destroyAllWindows()"
   ]
  },
  {
   "cell_type": "code",
   "execution_count": null,
   "metadata": {},
   "outputs": [],
   "source": []
  }
 ],
 "metadata": {
  "kernelspec": {
   "display_name": "Python 3",
   "language": "python",
   "name": "python3"
  },
  "language_info": {
   "codemirror_mode": {
    "name": "ipython",
    "version": 3
   },
   "file_extension": ".py",
   "mimetype": "text/x-python",
   "name": "python",
   "nbconvert_exporter": "python",
   "pygments_lexer": "ipython3",
   "version": "3.7.6"
  }
 },
 "nbformat": 4,
 "nbformat_minor": 4
}
